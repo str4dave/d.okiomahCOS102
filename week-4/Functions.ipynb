{
 "cells": [
  {
   "cell_type": "code",
   "execution_count": null,
   "id": "f91f43bf",
   "metadata": {},
   "outputs": [
    {
     "name": "stdout",
     "output_type": "stream",
     "text": [
      "21.991148575128552\n"
     ]
    }
   ],
   "source": [
    "from math import pi\n",
    "def calculate_area(r):\n",
    "  return r * pi\n",
    "print(calculate_area(7)) #Approximately 22"
   ]
  },
  {
   "cell_type": "code",
   "execution_count": null,
   "id": "9c542a61",
   "metadata": {},
   "outputs": [
    {
     "name": "stdout",
     "output_type": "stream",
     "text": [
      "True\n"
     ]
    }
   ],
   "source": [
    "def is_palindrome(text):\n",
    "  return text == \"\".join(reversed(text))\n",
    "print(is_palindrome(\"tattarrattat\")) #Returns true"
   ]
  },
  {
   "cell_type": "code",
   "execution_count": 7,
   "id": "7e46de61",
   "metadata": {},
   "outputs": [
    {
     "name": "stdout",
     "output_type": "stream",
     "text": [
      "[1, 2, 3, 4, 6, 8, 12, 24]\n"
     ]
    }
   ],
   "source": [
    "def find_factors(num):\n",
    "  factors = []\n",
    "  for i in range(1, num + 1):\n",
    "    if num % i == 0:\n",
    "      factors.append(i)\n",
    "  return factors\n",
    "\n",
    "print(find_factors(24))"
   ]
  },
  {
   "cell_type": "code",
   "execution_count": 11,
   "id": "725ced59",
   "metadata": {},
   "outputs": [
    {
     "name": "stdout",
     "output_type": "stream",
     "text": [
      "[8, 2, 3, 4, 5, 6, 7, 1]\n"
     ]
    }
   ],
   "source": [
    "def swap_first_last(lst):\n",
    "  lst.insert(0, lst.pop())\n",
    "  lst.insert(len(lst) -1, lst.pop(1))\n",
    "\n",
    "lst = [1,2,3,4,5,6,7,8]\n",
    "swap_first_last(lst)\n",
    "\n",
    "print(lst)\n"
   ]
  },
  {
   "cell_type": "code",
   "execution_count": 13,
   "id": "f02cacb4",
   "metadata": {},
   "outputs": [
    {
     "name": "stdout",
     "output_type": "stream",
     "text": [
      "Hello Ono\n",
      "Hi there Ono\n"
     ]
    }
   ],
   "source": [
    "def greet(name, greeting=\"Hello\"):\n",
    "  return(greeting + \" \" + name)\n",
    "print(greet(\"Ono\"))\n",
    "print(greet(\"Ono\", \"Hi there\"))"
   ]
  }
 ],
 "metadata": {
  "kernelspec": {
   "display_name": "Python 3",
   "language": "python",
   "name": "python3"
  },
  "language_info": {
   "codemirror_mode": {
    "name": "ipython",
    "version": 3
   },
   "file_extension": ".py",
   "mimetype": "text/x-python",
   "name": "python",
   "nbconvert_exporter": "python",
   "pygments_lexer": "ipython3",
   "version": "3.13.1"
  }
 },
 "nbformat": 4,
 "nbformat_minor": 5
}