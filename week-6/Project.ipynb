{
 "cells": [
  {
   "cell_type": "code",
   "execution_count": 1,
   "id": "fe9305d7",
   "metadata": {},
   "outputs": [
    {
     "ename": "ModuleNotFoundError",
     "evalue": "No module named 'pandas'",
     "output_type": "error",
     "traceback": [
      "\u001b[31m---------------------------------------------------------------------------\u001b[39m",
      "\u001b[31mModuleNotFoundError\u001b[39m                       Traceback (most recent call last)",
      "\u001b[36mCell\u001b[39m\u001b[36m \u001b[39m\u001b[32mIn[1]\u001b[39m\u001b[32m, line 1\u001b[39m\n\u001b[32m----> \u001b[39m\u001b[32m1\u001b[39m \u001b[38;5;28;01mimport\u001b[39;00m\u001b[38;5;250m \u001b[39m\u001b[34;01mpandas\u001b[39;00m\u001b[38;5;250m \u001b[39m\u001b[38;5;28;01mas\u001b[39;00m\u001b[38;5;250m \u001b[39m\u001b[34;01mpd\u001b[39;00m\n\u001b[32m      3\u001b[39m \u001b[38;5;66;03m# Define product data\u001b[39;00m\n\u001b[32m      4\u001b[39m data = [\n\u001b[32m      5\u001b[39m     \u001b[38;5;66;03m# Export Products\u001b[39;00m\n\u001b[32m      6\u001b[39m     {\u001b[33m\"\u001b[39m\u001b[33mCategory\u001b[39m\u001b[33m\"\u001b[39m: \u001b[33m\"\u001b[39m\u001b[33mExport\u001b[39m\u001b[33m\"\u001b[39m, \u001b[33m\"\u001b[39m\u001b[33mSegment\u001b[39m\u001b[33m\"\u001b[39m: \u001b[33m\"\u001b[39m\u001b[33mIntermediate Cocoa Products\u001b[39m\u001b[33m\"\u001b[39m, \u001b[33m\"\u001b[39m\u001b[33mProduct\u001b[39m\u001b[33m\"\u001b[39m: \u001b[33m\"\u001b[39m\u001b[33mCocoa Butter\u001b[39m\u001b[33m\"\u001b[39m},\n\u001b[32m   (...)\u001b[39m\u001b[32m     23\u001b[39m     {\u001b[33m\"\u001b[39m\u001b[33mCategory\u001b[39m\u001b[33m\"\u001b[39m: \u001b[33m\"\u001b[39m\u001b[33mSegment\u001b[39m\u001b[33m\"\u001b[39m, \u001b[33m\"\u001b[39m\u001b[33mSegment\u001b[39m\u001b[33m\"\u001b[39m: \u001b[33m\"\u001b[39m\u001b[33mIntermediate Cocoa Products\u001b[39m\u001b[33m\"\u001b[39m, \u001b[33m\"\u001b[39m\u001b[33mProduct\u001b[39m\u001b[33m\"\u001b[39m: \u001b[33m\"\u001b[39m\u001b[33mCOCOA BUTTER\u001b[39m\u001b[33m\"\u001b[39m},\n\u001b[32m     24\u001b[39m ]\n",
      "\u001b[31mModuleNotFoundError\u001b[39m: No module named 'pandas'"
     ]
    }
   ],
   "source": [
    "import pandas as pd\n",
    "\n",
    "# Define product data\n",
    "data = [\n",
    "    # Export Products\n",
    "    {\"Category\": \"Export\", \"Segment\": \"Intermediate Cocoa Products\", \"Product\": \"Cocoa Butter\"},\n",
    "    {\"Category\": \"Export\", \"Segment\": \"Intermediate Cocoa Products\", \"Product\": \"Cocoa Cake\"},\n",
    "    {\"Category\": \"Export\", \"Segment\": \"Intermediate Cocoa Products\", \"Product\": \"Cocoa Liquor\"},\n",
    "    # Local Cocoa Powder\n",
    "    {\"Category\": \"Local Market\", \"Segment\": \"Intermediate Cocoa Products\", \"Product\": \"Cocoa Powder\"},\n",
    "\n",
    "    # Refreshment Beverages\n",
    "    {\"Category\": \"Segment\", \"Segment\": \"Refreshment Beverages\", \"Product\": \"CADBURY BOURNVITA\"},\n",
    "    {\"Category\": \"Segment\", \"Segment\": \"Refreshment Beverages\", \"Product\": \"CADBURY 3-in-1 HOT CHOCOLATE\"},\n",
    "\n",
    "    # Confectionery\n",
    "    {\"Category\": \"Segment\", \"Segment\": \"Confectionery\", \"Product\": \"TOMTOM CLASSIC\"},\n",
    "    {\"Category\": \"Segment\", \"Segment\": \"Confectionery\", \"Product\": \"TOMTOM STRAWBERRY\"},\n",
    "    {\"Category\": \"Segment\", \"Segment\": \"Confectionery\", \"Product\": \"BUTTERMINT\"},\n",
    "\n",
    "    # Intermediate Cocoa Products again listed by brand\n",
    "    {\"Category\": \"Segment\", \"Segment\": \"Intermediate Cocoa Products\", \"Product\": \"COCOA POWDER\"},\n",
    "    {\"Category\": \"Segment\", \"Segment\": \"Intermediate Cocoa Products\", \"Product\": \"COCOA BUTTER\"},\n",
    "]\n",
    "\n",
    "# Create DataFrame\n",
    "df = pd.DataFrame(data)\n",
    "\n",
    "# Save to CSV\n",
    "df.to_csv(\"cadbury_market.csv\", index=False)\n",
    "\n",
    "print(\"cadbury_market.csv has been created successfully.\")\n"
   ]
  }
 ],
 "metadata": {
  "kernelspec": {
   "display_name": "Python 3",
   "language": "python",
   "name": "python3"
  },
  "language_info": {
   "codemirror_mode": {
    "name": "ipython",
    "version": 3
   },
   "file_extension": ".py",
   "mimetype": "text/x-python",
   "name": "python",
   "nbconvert_exporter": "python",
   "pygments_lexer": "ipython3",
   "version": "3.12.6"
  }
 },
 "nbformat": 4,
 "nbformat_minor": 5
}
